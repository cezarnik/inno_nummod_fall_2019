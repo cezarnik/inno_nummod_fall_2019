{
 "cells": [
  {
   "cell_type": "code",
   "execution_count": 28,
   "metadata": {},
   "outputs": [],
   "source": [
    "import cv2\n",
    "from cv2 import VideoWriter, VideoWriter_fourcc\n",
    "import numpy as np\n",
    "import matplotlib.pyplot as plt\n",
    "from matplotlib.backends.backend_agg import FigureCanvasAgg as FigureCanvas\n",
    "from matplotlib.figure import Figure\n",
    "import matplotlib as mpl\n",
    "from scipy.sparse import csc_matrix, lil_matrix\n",
    "from tqdm import tqdm"
   ]
  },
  {
   "cell_type": "code",
   "execution_count": 29,
   "metadata": {},
   "outputs": [],
   "source": [
    "def get_bgr_img(array):\n",
    "    fig = Figure(figsize=(16,10))\n",
    "    canvas = FigureCanvas(fig)\n",
    "    subplot = fig.subplots()\n",
    "    fig.gca().invert_yaxis()\n",
    "    norm = mpl.colors.Normalize(vmin=0, vmax=1)\n",
    "    cbar = fig.colorbar(subplot.imshow(array), ticks=np.linspace(0,1,6),extend='both')\n",
    "#     cbar = fig.colorbar.ColorbarBase(cmap=cmap, norm=norm)\n",
    "#     cbar.minorticks_on()\n",
    "    fig.canvas.draw()\n",
    "    width, height = fig.get_size_inches() * fig.get_dpi()\n",
    "    image = np.frombuffer(fig.canvas.tostring_rgb(), dtype='uint8').reshape(int(height), int(width), 3)\n",
    "    return cv2.cvtColor(image, cv2.COLOR_RGB2BGR)"
   ]
  },
  {
   "cell_type": "code",
   "execution_count": 30,
   "metadata": {},
   "outputs": [],
   "source": [
    "def in_house(x, y):\n",
    "    def fi(hx, hy, x, y):\n",
    "        return (hx < x and x < hx + 18 and hy < y and y < hy + 18)\n",
    "    def se(hx, hy, x, y):\n",
    "        return (hx < x < hx + 18 and hy < y < hy + 78) or (hx < x < hx + 30 and hy < y < hy + 18)\n",
    "    def th(hx, hy, x, y):\n",
    "        return (hx < x < hx + 18 and hy < y < hy + 78) or (hx - 12 < x < hx + 18 and hy + 60 < y < hy + 78)\n",
    "    predicates = {'1' : fi, '2' : se, '3' : th}\n",
    "    type_houses = {'1' : [(261, 165), (69, 111), (192, 111), (138, 165), (138, 12), (69, 264), (192, 264), (261, 12)],\n",
    "               '2': [(192, 165), (192, 12), (69, 165), (69, 12)],\n",
    "               '3': [(138, 204), (261, 51), (261, 204), (138, 51)]}\n",
    "    for k in predicates.keys():\n",
    "        for hx, hy in type_houses[k]:\n",
    "            if predicates[k](hx, hy, x, y):\n",
    "                return True\n",
    "    return False"
   ]
  },
  {
   "cell_type": "code",
   "execution_count": 31,
   "metadata": {},
   "outputs": [],
   "source": [
    "def is_edge_condition(x, y, M):\n",
    "    k = 300 / M\n",
    "    nx = x * k\n",
    "    ny = y * k\n",
    "    return in_house(nx, ny) or x > M - 1 or y > M - 1 or y < 0 or x < 0"
   ]
  },
  {
   "cell_type": "code",
   "execution_count": 32,
   "metadata": {},
   "outputs": [],
   "source": [
    "def solve(M, eps, iters, output_iter=None):  \n",
    "    k = 0.5\n",
    "    l1 = 1\n",
    "    l2 = 0\n",
    "    tau = 1 / (4 * k * M * M)\n",
    "    h = 1 / M\n",
    "    coeffs = [\n",
    "            1 - 4 * tau * k / (h**2),\n",
    "            tau * (k / (h**2) - l1 / (2 * h)),\n",
    "            tau * (k / (h**2) + l1 / (2 * h)),\n",
    "            tau * (k / (h**2) - l2 / (2 * h)),\n",
    "            tau * (k / (h**2) + l2 / (2 * h))\n",
    "        ]\n",
    "    dx = [0, 1, -1, 0, 0]\n",
    "    dy = [0, 0, 0, 1, -1]\n",
    "    \n",
    "    A = lil_matrix((M*M, M*M), dtype=np.float64)\n",
    "    b = np.zeros(M*M)\n",
    "    \n",
    "    for x in range(M): \n",
    "        for y in range(M):\n",
    "            i = x * M + y\n",
    "            A[i, i] = coeffs[0]\n",
    "            if edge_condition(x, y, M):\n",
    "                continue\n",
    "            for d in range(1, 5):\n",
    "                nx = x + dx[d]\n",
    "                ny = y + dy[d]\n",
    "                if nx == 0:\n",
    "                    b[i] += coeffs[d]\n",
    "                elif is_edge_condition(nx, ny, M):\n",
    "                    A[i, i] += coeffs[d]\n",
    "                else:\n",
    "                    A[i, nx * M + ny] = coeffs[d]\n",
    "\n",
    "    A = csc_matrix(A)\n",
    "    u = np.zeros(M * M)\n",
    "    u[0:M] = 1\n",
    "    \n",
    "    if output_iter is not None:\n",
    "        img = get_bgr_img(u.reshape((M, M)).T)\n",
    "        width, height = img.shape[:-1]\n",
    "        vid = VideoWriter(\"diffusion.avi\", VideoWriter_fourcc(*\"XVID\"), 10.0, (height, width))\n",
    "    \n",
    "    for i in tqdm(range(iters)):\n",
    "        u_new = A * u + b\n",
    "        error = np.max(np.abs((u_new - u) / np.maximum(1, u)))\n",
    "        u = u_new\n",
    "        if output_iter is not None and i % output_iter == 0:\n",
    "            vid.write(get_bgr_img(u.reshape((M, M)).T))\n",
    "        if error < eps:\n",
    "            print(f'error less than {eps}; break')\n",
    "            break\n",
    "    if vid is not None:\n",
    "        vid.release()\n",
    "    return u.reshape((M, M)).T"
   ]
  },
  {
   "cell_type": "code",
   "execution_count": null,
   "metadata": {
    "scrolled": true
   },
   "outputs": [
    {
     "name": "stderr",
     "output_type": "stream",
     "text": [
      " 34%|███▍      | 34178/100500 [01:21<02:09, 511.55it/s]"
     ]
    }
   ],
   "source": [
    "res = solve(M = 200, eps=1e-5, iters=100500, output_iter=100)"
   ]
  },
  {
   "cell_type": "code",
   "execution_count": null,
   "metadata": {},
   "outputs": [],
   "source": []
  },
  {
   "cell_type": "code",
   "execution_count": null,
   "metadata": {},
   "outputs": [],
   "source": []
  }
 ],
 "metadata": {
  "kernelspec": {
   "display_name": "Python 3",
   "language": "python",
   "name": "python3"
  },
  "language_info": {
   "codemirror_mode": {
    "name": "ipython",
    "version": 3
   },
   "file_extension": ".py",
   "mimetype": "text/x-python",
   "name": "python",
   "nbconvert_exporter": "python",
   "pygments_lexer": "ipython3",
   "version": "3.6.9"
  }
 },
 "nbformat": 4,
 "nbformat_minor": 2
}
